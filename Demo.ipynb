{
 "cells": [
  {
   "cell_type": "markdown",
   "metadata": {
    "id": "xrtYwkuYmR2W"
   },
   "source": [
    "# Basic Tensorflow Demo\n",
    "* Example 1: Hoursing Prices\n",
    "* Example 2: Linear Regression Using Tensorflow\n",
    "* Example 3: Image Classification"
   ]
  },
  {
   "cell_type": "markdown",
   "metadata": {
    "id": "sFw44A_TmR2a"
   },
   "source": [
    "# Example 1: Hoursing Prices\n",
    "\n",
    "We will build a neural network that predicts the price of a house according to a simple formula.\n",
    "\n",
    "Imagine that house pricing is as easy as:\n",
    "\n",
    "A house has a base cost of 50k, and every additional bedroom adds a cost of 50k. This will make a 1 bedroom house cost 100k, a 2 bedroom house cost 150k etc.\n",
    "\n",
    "How would you create a neural network that learns this relationship so that it would predict a 7 bedroom house as costing close to 400k etc.\n"
   ]
  },
  {
   "cell_type": "code",
   "execution_count": 1,
   "metadata": {
    "id": "nwBGMeiimR2b"
   },
   "outputs": [],
   "source": [
    "import tensorflow as tf\n",
    "import numpy as np"
   ]
  },
  {
   "cell_type": "code",
   "execution_count": 3,
   "metadata": {
    "id": "D_ABlvpYmR2c"
   },
   "outputs": [],
   "source": [
    "# GRADED FUNCTION: house_model\n",
    "def house_model():\n",
    "    \n",
    "    # Define input and output tensors with the values for houses with 1 up to 6 bedrooms\n",
    "    xs = np.array([1, 2, 3, 4, 5, 6], dtype = float)\n",
    "    ys = np.array([1, 1.5, 2, 2.5, 3, 3.5], dtype = float)\n",
    "    \n",
    "    # Define your model (should be a model with 1 dense layer and 1 unit)\n",
    "    model = tf.keras.Sequential([tf.keras.layers.Dense(units = 1, input_shape = [1])])\n",
    "    \n",
    "    # Compile your model\n",
    "    # Set the optimizer to Stochastic Gradient Descent\n",
    "    # and use Mean Squared Error as the loss function\n",
    "    model.compile(optimizer= 'sgd', loss= 'mean_squared_error')\n",
    "    \n",
    "    # Train your model for 500 epochs by feeding the i/o tensors\n",
    "    model.fit(xs, ys, epochs=500)\n",
    "    \n",
    "    return model"
   ]
  },
  {
   "cell_type": "code",
   "execution_count": null,
   "metadata": {
    "colab": {
     "base_uri": "https://localhost:8080/"
    },
    "id": "zSy7sg2DmR2c",
    "outputId": "77bc4bdf-b7f7-4534-d887-b87a86498dad"
   },
   "outputs": [],
   "source": [
    "# Get your trained model\n",
    "model = house_model()"
   ]
  },
  {
   "cell_type": "code",
   "execution_count": null,
   "metadata": {
    "colab": {
     "base_uri": "https://localhost:8080/"
    },
    "id": "csDeFUWzmR2d",
    "outputId": "92bd32b7-69ad-4e27-943d-98b6e49a622f"
   },
   "outputs": [],
   "source": [
    "new_y = 7\n",
    "prediction = model.predict([new_y])[0]\n",
    "print(prediction)"
   ]
  },
  {
   "cell_type": "markdown",
   "metadata": {
    "id": "o_hC9VuamR2d"
   },
   "source": [
    "# Example 2: Linear Regression Using Tensorflow"
   ]
  },
  {
   "cell_type": "code",
   "execution_count": 6,
   "metadata": {
    "id": "UBgVPAdRmR2e"
   },
   "outputs": [],
   "source": [
    "import matplotlib.pyplot as plt"
   ]
  },
  {
   "cell_type": "code",
   "execution_count": null,
   "metadata": {
    "colab": {
     "base_uri": "https://localhost:8080/",
     "height": 267
    },
    "id": "tIS4SF6NmR2e",
    "outputId": "887619f1-8082-42ba-f9e7-02103cc07ed2"
   },
   "outputs": [],
   "source": [
    "# The actual line\n",
    "TRUE_W = 3.0\n",
    "TRUE_B = 2.0\n",
    "\n",
    "NUM_EXAMPLES = 201\n",
    "\n",
    "# A vector of random x values\n",
    "x = tf.linspace(-2,2, NUM_EXAMPLES)\n",
    "x = tf.cast(x, tf.float32)\n",
    "\n",
    "# f(x) = 3x + 2\n",
    "def f(x):\n",
    "  return x * TRUE_W + TRUE_B\n",
    "\n",
    "# Generate some noise\n",
    "noise = tf.random.normal(shape=[NUM_EXAMPLES])\n",
    "\n",
    "# Calculate y\n",
    "y = f(x) + noise\n",
    "\n",
    "# Plot all the data\n",
    "plt.plot(x, y, '.')\n",
    "plt.show()"
   ]
  },
  {
   "cell_type": "code",
   "execution_count": null,
   "metadata": {
    "colab": {
     "base_uri": "https://localhost:8080/"
    },
    "id": "uBCsVB9NmR2f",
    "outputId": "c8745ffa-9fd2-483f-e2e8-5ba85fc15132"
   },
   "outputs": [],
   "source": [
    "print(x)\n",
    "print(y.numpy())"
   ]
  },
  {
   "cell_type": "code",
   "execution_count": null,
   "metadata": {
    "colab": {
     "base_uri": "https://localhost:8080/"
    },
    "id": "iQBuxkgrmR2f",
    "outputId": "c27b565a-42ea-4005-e86e-048f030ec5ca"
   },
   "outputs": [],
   "source": [
    "class MyModel(tf.Module):\n",
    "    def __init__(self, **kwargs):\n",
    "        super().__init__(**kwargs)\n",
    "        # Initialize the weights to `5.0` and the bias to `0.0`\n",
    "        # In practice, these should be randomly initialized\n",
    "        self.w = tf.Variable(5.0)\n",
    "        self.b = tf.Variable(0.0)\n",
    "\n",
    "    def __call__(self, x):\n",
    "        return self.w * x + self.b\n",
    "\n",
    "model = MyModel()\n",
    "\n",
    "# List the variables tf.modules's built-in variable aggregation.\n",
    "print(\"Variables:\", model.variables)\n",
    "\n",
    "# Verify the model works\n",
    "#assert model(3.0).numpy() == 15.0"
   ]
  },
  {
   "cell_type": "code",
   "execution_count": null,
   "metadata": {
    "colab": {
     "base_uri": "https://localhost:8080/"
    },
    "id": "YoHxAbfUmR2f",
    "outputId": "bf76b94e-16ff-410c-928b-4a7aa6d11713"
   },
   "outputs": [],
   "source": [
    "print(model(x))"
   ]
  },
  {
   "cell_type": "code",
   "execution_count": 11,
   "metadata": {
    "id": "kYIALPjemR2g"
   },
   "outputs": [],
   "source": [
    "def loss(target_y, predicted_y):\n",
    "  return tf.reduce_mean(tf.square(target_y - predicted_y))"
   ]
  },
  {
   "cell_type": "code",
   "execution_count": null,
   "metadata": {
    "colab": {
     "base_uri": "https://localhost:8080/",
     "height": 282
    },
    "id": "xW-cMgF8mR2g",
    "outputId": "916f958c-9449-4c30-984f-7cf63a10aeba"
   },
   "outputs": [],
   "source": [
    "plt.plot(x, y, '.', label=\"Data\")\n",
    "plt.plot(x, f(x), label=\"Ground truth\")\n",
    "plt.plot(x, model(x), label=\"Predictions\")\n",
    "plt.legend()\n",
    "plt.show()\n",
    "\n",
    "print(\"Current loss: %1.6f\" % loss(y, model(x)).numpy())\n"
   ]
  },
  {
   "cell_type": "markdown",
   "metadata": {
    "id": "vPZqLj4UmR2g"
   },
   "source": [
    "# Example 3: Image Classification"
   ]
  },
  {
   "cell_type": "code",
   "execution_count": 13,
   "metadata": {
    "id": "8bxU_wdnmR2g"
   },
   "outputs": [],
   "source": [
    "# Load the MNIST dataset from tensorflow\n",
    "mnist = tf.keras.datasets.mnist"
   ]
  },
  {
   "cell_type": "code",
   "execution_count": null,
   "metadata": {
    "colab": {
     "base_uri": "https://localhost:8080/"
    },
    "id": "IRxUJWRemR2h",
    "outputId": "202d4707-f6e0-4c24-e8c0-2b8e3d5d5021"
   },
   "outputs": [],
   "source": [
    "#load the training and test split of the fashion mnist dataset\n",
    "(training_images, training_labels), (test_images, test_labels) = mnist.load_data()"
   ]
  },
  {
   "cell_type": "code",
   "execution_count": 15,
   "metadata": {
    "id": "iZEe3bGhmR2h"
   },
   "outputs": [],
   "source": [
    "def Print(index):\n",
    "    #set number of characters per row when printing\n",
    "    np.set_printoptions(linewidth = 320)\n",
    "    #print the label and image\n",
    "    print(f'\\nLabel: {training_labels[index]}')\n",
    "    print(f'\\nImage pixel array:\\n {training_images[index]}')\n",
    "\n",
    "    #visualize the image\n",
    "    plt.imshow(training_images[index])\n",
    "    plt.show()"
   ]
  },
  {
   "cell_type": "code",
   "execution_count": null,
   "metadata": {
    "colab": {
     "base_uri": "https://localhost:8080/",
     "height": 820
    },
    "id": "2I5E8srHmR2h",
    "outputId": "aabdfc5b-c489-4ac3-ae3d-ff201325d453"
   },
   "outputs": [],
   "source": [
    "# first image and label in training data\n",
    "Print(index = 0)"
   ]
  },
  {
   "cell_type": "code",
   "execution_count": 17,
   "metadata": {
    "id": "OxcC0IgBmR2h"
   },
   "outputs": [],
   "source": [
    "#scale images pixel data for training\n",
    "training_images = training_images/255.0\n",
    "test_images = test_images/255.0"
   ]
  },
  {
   "cell_type": "code",
   "execution_count": null,
   "metadata": {
    "colab": {
     "base_uri": "https://localhost:8080/"
    },
    "id": "AdcrVh-pmR2h",
    "outputId": "c6d11fc4-22c8-41a6-b2ed-f7295dc6eee2"
   },
   "outputs": [],
   "source": [
    "print(training_images[0])"
   ]
  },
  {
   "cell_type": "code",
   "execution_count": 19,
   "metadata": {
    "id": "kbL4toibmR2i"
   },
   "outputs": [],
   "source": [
    "# build the classification model \n",
    "model = tf.keras.models.Sequential([tf.keras.layers.Flatten(),\n",
    "                                     tf.keras.layers.Dense(1024, activation = tf.nn.relu), \n",
    "                                     tf.keras.layers.Dense(10, activation = tf.nn.softmax)])\n"
   ]
  },
  {
   "cell_type": "code",
   "execution_count": null,
   "metadata": {
    "colab": {
     "base_uri": "https://localhost:8080/"
    },
    "id": "c26pYmmlmR2i",
    "outputId": "9f48f5da-f0fc-4404-89cb-8d1e6c9c6d97"
   },
   "outputs": [],
   "source": [
    "# compile model\n",
    "model.compile(optimizer = tf.optimizers.Adam(),\n",
    "              loss = 'sparse_categorical_crossentropy',\n",
    "              metrics = ['accuracy'])\n",
    "model.fit(training_images, training_labels, epochs = 5)"
   ]
  },
  {
   "cell_type": "code",
   "execution_count": null,
   "metadata": {
    "colab": {
     "base_uri": "https://localhost:8080/"
    },
    "id": "uQiIaAV6mR2i",
    "outputId": "723e965f-5bd6-4f9c-fd7c-e49eaf938bea"
   },
   "outputs": [],
   "source": [
    "#evaluate the model on unseen data\n",
    "model.evaluate(test_images, test_labels)"
   ]
  },
  {
   "cell_type": "code",
   "execution_count": null,
   "metadata": {
    "colab": {
     "base_uri": "https://localhost:8080/"
    },
    "id": "u0ct1oTdmR2i",
    "outputId": "c60b2fbe-8761-4eda-9323-3a4cb849d96e"
   },
   "outputs": [],
   "source": [
    "# Test model\n",
    "classification = model.predict(test_images)\n",
    "\n",
    "print(classification[1])\n",
    "print(test_labels[1])"
   ]
  },
  {
   "cell_type": "code",
   "execution_count": null,
   "metadata": {
    "colab": {
     "base_uri": "https://localhost:8080/",
     "height": 282
    },
    "id": "F93EBS7omR2j",
    "outputId": "6257e202-1fac-429f-fda6-d1bbeeaeb8e9"
   },
   "outputs": [],
   "source": [
    "plt.imshow(test_images[1])"
   ]
  }
 ],
 "metadata": {
  "colab": {
   "collapsed_sections": [],
   "name": "Demo.ipynb",
   "provenance": [],
   "toc_visible": true
  },
  "interpreter": {
   "hash": "3c26068bbc9505f7577630a1940f0d38a0b18536ba56d9a3efddbd19a878ac8d"
  },
  "kernelspec": {
   "display_name": "Python 3 (ipykernel)",
   "language": "python",
   "name": "python3"
  },
  "language_info": {
   "codemirror_mode": {
    "name": "ipython",
    "version": 3
   },
   "file_extension": ".py",
   "mimetype": "text/x-python",
   "name": "python",
   "nbconvert_exporter": "python",
   "pygments_lexer": "ipython3",
   "version": "3.9.7"
  }
 },
 "nbformat": 4,
 "nbformat_minor": 4
}
